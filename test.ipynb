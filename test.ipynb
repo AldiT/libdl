{
 "cells": [
  {
   "cell_type": "code",
   "execution_count": 1,
   "metadata": {},
   "outputs": [
    {
     "name": "stderr",
     "output_type": "stream",
     "text": [
      "/usr/local/lib/python3.7/site-packages/tensorflow/python/framework/dtypes.py:516: FutureWarning: Passing (type, 1) or '1type' as a synonym of type is deprecated; in a future version of numpy, it will be understood as (type, (1,)) / '(1,)type'.\n",
      "  _np_qint8 = np.dtype([(\"qint8\", np.int8, 1)])\n",
      "/usr/local/lib/python3.7/site-packages/tensorflow/python/framework/dtypes.py:517: FutureWarning: Passing (type, 1) or '1type' as a synonym of type is deprecated; in a future version of numpy, it will be understood as (type, (1,)) / '(1,)type'.\n",
      "  _np_quint8 = np.dtype([(\"quint8\", np.uint8, 1)])\n",
      "/usr/local/lib/python3.7/site-packages/tensorflow/python/framework/dtypes.py:518: FutureWarning: Passing (type, 1) or '1type' as a synonym of type is deprecated; in a future version of numpy, it will be understood as (type, (1,)) / '(1,)type'.\n",
      "  _np_qint16 = np.dtype([(\"qint16\", np.int16, 1)])\n",
      "/usr/local/lib/python3.7/site-packages/tensorflow/python/framework/dtypes.py:519: FutureWarning: Passing (type, 1) or '1type' as a synonym of type is deprecated; in a future version of numpy, it will be understood as (type, (1,)) / '(1,)type'.\n",
      "  _np_quint16 = np.dtype([(\"quint16\", np.uint16, 1)])\n",
      "/usr/local/lib/python3.7/site-packages/tensorflow/python/framework/dtypes.py:520: FutureWarning: Passing (type, 1) or '1type' as a synonym of type is deprecated; in a future version of numpy, it will be understood as (type, (1,)) / '(1,)type'.\n",
      "  _np_qint32 = np.dtype([(\"qint32\", np.int32, 1)])\n",
      "/usr/local/lib/python3.7/site-packages/tensorflow/python/framework/dtypes.py:525: FutureWarning: Passing (type, 1) or '1type' as a synonym of type is deprecated; in a future version of numpy, it will be understood as (type, (1,)) / '(1,)type'.\n",
      "  np_resource = np.dtype([(\"resource\", np.ubyte, 1)])\n",
      "/usr/local/lib/python3.7/site-packages/tensorboard/compat/tensorflow_stub/dtypes.py:541: FutureWarning: Passing (type, 1) or '1type' as a synonym of type is deprecated; in a future version of numpy, it will be understood as (type, (1,)) / '(1,)type'.\n",
      "  _np_qint8 = np.dtype([(\"qint8\", np.int8, 1)])\n",
      "/usr/local/lib/python3.7/site-packages/tensorboard/compat/tensorflow_stub/dtypes.py:542: FutureWarning: Passing (type, 1) or '1type' as a synonym of type is deprecated; in a future version of numpy, it will be understood as (type, (1,)) / '(1,)type'.\n",
      "  _np_quint8 = np.dtype([(\"quint8\", np.uint8, 1)])\n",
      "/usr/local/lib/python3.7/site-packages/tensorboard/compat/tensorflow_stub/dtypes.py:543: FutureWarning: Passing (type, 1) or '1type' as a synonym of type is deprecated; in a future version of numpy, it will be understood as (type, (1,)) / '(1,)type'.\n",
      "  _np_qint16 = np.dtype([(\"qint16\", np.int16, 1)])\n",
      "/usr/local/lib/python3.7/site-packages/tensorboard/compat/tensorflow_stub/dtypes.py:544: FutureWarning: Passing (type, 1) or '1type' as a synonym of type is deprecated; in a future version of numpy, it will be understood as (type, (1,)) / '(1,)type'.\n",
      "  _np_quint16 = np.dtype([(\"quint16\", np.uint16, 1)])\n",
      "/usr/local/lib/python3.7/site-packages/tensorboard/compat/tensorflow_stub/dtypes.py:545: FutureWarning: Passing (type, 1) or '1type' as a synonym of type is deprecated; in a future version of numpy, it will be understood as (type, (1,)) / '(1,)type'.\n",
      "  _np_qint32 = np.dtype([(\"qint32\", np.int32, 1)])\n",
      "/usr/local/lib/python3.7/site-packages/tensorboard/compat/tensorflow_stub/dtypes.py:550: FutureWarning: Passing (type, 1) or '1type' as a synonym of type is deprecated; in a future version of numpy, it will be understood as (type, (1,)) / '(1,)type'.\n",
      "  np_resource = np.dtype([(\"resource\", np.ubyte, 1)])\n"
     ]
    },
    {
     "name": "stdout",
     "output_type": "stream",
     "text": [
      "(60000, 28, 28)\n"
     ]
    }
   ],
   "source": [
    "from libdl import Model, DenseLayer, ReLU\n",
    "import torch\n",
    "import numpy as np\n",
    "from python_scripts.data_functionality import Convolution"
   ]
  },
  {
   "cell_type": "code",
   "execution_count": 2,
   "metadata": {},
   "outputs": [],
   "source": [
    "model = Model(2, 1e-4, 1.0, 4, int(45000/4), \"\", \"cross_entropy\", 10)\n",
    "\n",
    "model.add(DenseLayer(784, 400, \"dense1\", 10))\n",
    "model.add(ReLU())\n",
    "model.add(DenseLayer(400, 200, \"dense2\", 10))\n",
    "model.add(ReLU())\n",
    "model.add(DenseLayer(200, 10, \"dense3\", 10))\n",
    "model.add(ReLU())\n"
   ]
  },
  {
   "cell_type": "code",
   "execution_count": 12,
   "metadata": {},
   "outputs": [
    {
     "name": "stdout",
     "output_type": "stream",
     "text": [
      "(60000, 28, 28)\n"
     ]
    }
   ],
   "source": [
    "#Download mnist and feed it to the network\n",
    "from tensorflow.keras.datasets import mnist\n",
    "\n",
    "(train_data, train_labels), (test_data, test_labels) = mnist.load_data()\n",
    "print(train_data.shape)\n",
    "\n",
    "train_data = np.reshape(train_data, (train_data.shape[0], -1))\n",
    "\n",
    "train_data = train_data / 255.0\n"
   ]
  },
  {
   "cell_type": "code",
   "execution_count": 13,
   "metadata": {},
   "outputs": [
    {
     "name": "stdout",
     "output_type": "stream",
     "text": [
      "(60000, 784)\n"
     ]
    }
   ],
   "source": [
    "from libdl import TensorWrapper\n",
    "data = TensorWrapper(1, 28, 28, 1, False)\n",
    "labels = TensorWrapper(1, 1, 1, 1, False)\n",
    "print(train_data.shape)"
   ]
  },
  {
   "cell_type": "code",
   "execution_count": 18,
   "metadata": {},
   "outputs": [
    {
     "name": "stdout",
     "output_type": "stream",
     "text": [
      "5.0\n",
      "Batch:  0  Loss:  9.219964902261971\n",
      "Epoch:  0\n",
      "Batch:  2  Loss:  9.213557610856864\n",
      "Batch:  4  Loss:  9.190604508692132\n",
      "Batch:  6  Loss:  9.209562283064766\n",
      "Batch:  8  Loss:  9.210157258393025\n",
      "Batch:  10  Loss:  9.213640547433727\n",
      "Batch:  12  Loss:  9.209690310976653\n"
     ]
    },
    {
     "ename": "KeyboardInterrupt",
     "evalue": "",
     "output_type": "error",
     "traceback": [
      "\u001b[0;31m---------------------------------------------------------------------------\u001b[0m",
      "\u001b[0;31mKeyboardInterrupt\u001b[0m                         Traceback (most recent call last)",
      "\u001b[0;32m<ipython-input-18-a8c961834593>\u001b[0m in \u001b[0;36m<module>\u001b[0;34m\u001b[0m\n\u001b[1;32m     73\u001b[0m         \u001b[0mgrads\u001b[0m \u001b[0;34m=\u001b[0m \u001b[0mdense2\u001b[0m\u001b[0;34m.\u001b[0m\u001b[0mbackward\u001b[0m\u001b[0;34m(\u001b[0m\u001b[0mgrads\u001b[0m\u001b[0;34m,\u001b[0m \u001b[0;36m0.001\u001b[0m\u001b[0;34m)\u001b[0m\u001b[0;34m\u001b[0m\u001b[0;34m\u001b[0m\u001b[0m\n\u001b[1;32m     74\u001b[0m         \u001b[0mgrads\u001b[0m \u001b[0;34m=\u001b[0m \u001b[0mrelu3\u001b[0m\u001b[0;34m.\u001b[0m\u001b[0mbackward\u001b[0m\u001b[0;34m(\u001b[0m\u001b[0mgrads\u001b[0m\u001b[0;34m,\u001b[0m \u001b[0;36m0.001\u001b[0m\u001b[0;34m)\u001b[0m\u001b[0;34m\u001b[0m\u001b[0;34m\u001b[0m\u001b[0m\n\u001b[0;32m---> 75\u001b[0;31m         \u001b[0mgrads\u001b[0m \u001b[0;34m=\u001b[0m \u001b[0mdense1\u001b[0m\u001b[0;34m.\u001b[0m\u001b[0mbackward\u001b[0m\u001b[0;34m(\u001b[0m\u001b[0mgrads\u001b[0m\u001b[0;34m,\u001b[0m \u001b[0;36m0.001\u001b[0m\u001b[0;34m)\u001b[0m\u001b[0;34m\u001b[0m\u001b[0;34m\u001b[0m\u001b[0m\n\u001b[0m\u001b[1;32m     76\u001b[0m         \u001b[0mgrads\u001b[0m \u001b[0;34m=\u001b[0m \u001b[0mrelu2\u001b[0m\u001b[0;34m.\u001b[0m\u001b[0mbackward\u001b[0m\u001b[0;34m(\u001b[0m\u001b[0mgrads\u001b[0m\u001b[0;34m,\u001b[0m \u001b[0;36m0.001\u001b[0m\u001b[0;34m)\u001b[0m\u001b[0;34m\u001b[0m\u001b[0;34m\u001b[0m\u001b[0m\n\u001b[1;32m     77\u001b[0m         \u001b[0mgrads\u001b[0m \u001b[0;34m=\u001b[0m \u001b[0mconv2\u001b[0m\u001b[0;34m.\u001b[0m\u001b[0mbackward\u001b[0m\u001b[0;34m(\u001b[0m\u001b[0mgrads\u001b[0m\u001b[0;34m,\u001b[0m \u001b[0;36m0.001\u001b[0m\u001b[0;34m)\u001b[0m\u001b[0;34m\u001b[0m\u001b[0;34m\u001b[0m\u001b[0m\n",
      "\u001b[0;31mKeyboardInterrupt\u001b[0m: "
     ]
    }
   ],
   "source": [
    "from libdl import Convolution, ReLU, DenseLayer, CrossEntropy\n",
    "epochs = 5\n",
    "lr = 0.0001\n",
    "batch_size = 2\n",
    "batch = 0\n",
    "\n",
    "data.set_tensor(train_data[batch+1:batch + batch_size+1], 28, 28, 1)\n",
    "labels.set_tensor(train_labels[batch+1:batch + batch_size+1], 1, 1, 1)\n",
    "\n",
    "#predictions = model.forward(data)\n",
    "        \n",
    "conv1 = Convolution(\"conv1\", 3, 16, 0, 1, 1, 16)\n",
    "relu1 = ReLU()\n",
    "conv2 = Convolution(\"conv2\", 3, 32, 0, 1, 16, 16)\n",
    "relu2 = ReLU()\n",
    "dense1 = DenseLayer(18432, 10000, \"dense1\", 200)\n",
    "relu3 = ReLU()\n",
    "dense2 = DenseLayer(10000, 1000, \"dense2\", 10)\n",
    "relu4 = ReLU()\n",
    "dense3 = DenseLayer(1000, 10, \"dense2\", 10)\n",
    "\n",
    "cross_entropy = CrossEntropy(10)\n",
    "\n",
    "grads = TensorWrapper(1, 1, 1, 1, False)\n",
    "\n",
    "loss = 0\n",
    "labels.set_tensor(train_labels[0:0 + batch_size], 1, 1, 1)\n",
    "\n",
    "print(labels.get_tensor()[0, 0], flush=True)\n",
    "\n",
    "\n",
    "for epoch in range(3):\n",
    "    for i in range(0, 60000, batch_size):\n",
    "        data.set_tensor(train_data[i:i + batch_size+1], 28, 28, 1)\n",
    "        labels.set_tensor(train_labels[i:i + batch_size], 1, 1, 1)\n",
    "        \n",
    "        out = conv1.forward(data)\n",
    "        out = relu1.forward(out)\n",
    "        out = conv2.forward(out)\n",
    "        out = relu2.forward(out)\n",
    "        out = dense1.forward(out)\n",
    "        out = relu3.forward(out)\n",
    "        out = dense2.forward(out)\n",
    "        out = relu4.forward(out)\n",
    "        out = dense3.forward(out)\n",
    "        \n",
    "        from_ce = cross_entropy.get_gradient(out.get_tensor(), labels.get_tensor(), 20)\n",
    "        \n",
    "        \n",
    "        loss = 0\n",
    "        \n",
    "        exp = np.exp(out.get_tensor())\n",
    "        sums = np.sum(exp, axis=1)\n",
    "        exp /= sums[:, None]\n",
    "        \n",
    "        targets = labels.get_tensor()\n",
    "        targets = targets.astype(int)\n",
    "        \n",
    "        loss -= np.sum(np.log(exp[range(batch_size), targets])) \n",
    "        loss /= batch_size\n",
    "        \n",
    "        print(\"Batch: \", i, \" Loss: \" , loss, flush=True)\n",
    "        \n",
    "        \n",
    "        \n",
    "\n",
    "        #g[0, int(target)] -= 1\n",
    "        grads.set_tensor(from_ce, 10, 1, 1)\n",
    "        \n",
    "        \n",
    "        \n",
    "        grads = dense3.backward(grads, 0.001)\n",
    "        grads = relu4.backward(grads, 0.001)\n",
    "        grads = dense2.backward(grads, 0.001)\n",
    "        grads = relu3.backward(grads, 0.001)\n",
    "        grads = dense1.backward(grads, 0.001)\n",
    "        grads = relu2.backward(grads, 0.001)\n",
    "        grads = conv2.backward(grads, 0.001)\n",
    "        grads = relu1.backward(grads, 0.001)\n",
    "        grads = conv1.backward(grads, 0.001)\n",
    "\n",
    "        if i % 20 == 0:\n",
    "            print(\"Epoch: \" , i)\n",
    "\n",
    "\n",
    "\n",
    "label = labels.get_tensor()\n",
    "\n",
    "arr = out.get_tensor() \n",
    "    \n",
    "arr = np.exp(arr)\n",
    "s = np.sum(arr)\n",
    "arr /= s\n",
    "\n",
    "print(\"Label: \" , label, \" Sure: \" , arr[0, 0] * 100, \"%\")\n",
    "    "
   ]
  },
  {
   "cell_type": "code",
   "execution_count": null,
   "metadata": {},
   "outputs": [],
   "source": [
    "print(labels.get_tensor())"
   ]
  },
  {
   "cell_type": "code",
   "execution_count": 49,
   "metadata": {},
   "outputs": [
    {
     "name": "stdout",
     "output_type": "stream",
     "text": [
      "Label:  [[5.]]  Sure:  99.96835927381632 %\n"
     ]
    }
   ],
   "source": [
    "dense1 = DenseLayer(784, 400, \"dense1\", 10)\n",
    "relu1 = ReLU()\n",
    "dense2 = DenseLayer(400, 200, \"dense2\", 10)\n",
    "relu2 = ReLU()\n",
    "dense3 = DenseLayer(200, 10, \"dense3\", 10)\n",
    "\n",
    "for i in range(1000):\n",
    "    out = dense1.forward(data)\n",
    "    out = relu1.forward(out)\n",
    "    out = dense2.forward(out)\n",
    "    out = relu2.forward(out)\n",
    "    out = dense3.forward(out)\n",
    "    \n",
    "    grads.set_tensor(cross_entropy.get_gradient(out.get_tensor(), labels.get_tensor(), 20), 10, 1, 1)\n",
    "    \n",
    "    grads = dense3.backward(grads, 0.0001)\n",
    "    grads = relu2.backward(grads, 0.0001)\n",
    "    grads = dense2.backward(grads, 0.0001)\n",
    "    grads = relu1.backward(grads, 0.0001)\n",
    "    grads = dense1.backward(grads, 0.0001)\n",
    "    \n",
    "    \n",
    "out = dense1.forward(data)\n",
    "out = relu1.forward(out)\n",
    "out = dense2.forward(out)\n",
    "out = relu2.forward(out)\n",
    "out = dense3.forward(out)\n",
    "    \n",
    "label = labels.get_tensor()\n",
    "\n",
    "arr = out.get_tensor() \n",
    "    \n",
    "arr = np.exp(arr)\n",
    "s = np.sum(arr)\n",
    "arr /= s\n",
    "\n",
    "print(\"Label: \" , label, \" Sure: \" , arr[0, 5] * 100, \"%\")\n",
    "    "
   ]
  },
  {
   "cell_type": "code",
   "execution_count": null,
   "metadata": {},
   "outputs": [],
   "source": []
  }
 ],
 "metadata": {
  "kernelspec": {
   "display_name": "Python 3",
   "language": "python",
   "name": "python3"
  },
  "language_info": {
   "codemirror_mode": {
    "name": "ipython",
    "version": 3
   },
   "file_extension": ".py",
   "mimetype": "text/x-python",
   "name": "python",
   "nbconvert_exporter": "python",
   "pygments_lexer": "ipython3",
   "version": "3.7.3"
  }
 },
 "nbformat": 4,
 "nbformat_minor": 2
}
