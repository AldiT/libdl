{
 "cells": [
  {
   "cell_type": "code",
   "execution_count": 1,
   "metadata": {},
   "outputs": [],
   "source": [
    "import torch\n",
    "from torchvision import transforms, datasets\n",
    "from torch.utils.data.sampler import SubsetRandomSampler\n",
    "from torch.utils.data import DataLoader\n",
    "import torchvision\n",
    "import matplotlib.pyplot as plt\n",
    "import numpy as np\n",
    "import torch.nn as nn\n",
    "import torch.nn.functional as F\n",
    "import torch.optim as optim\n",
    "from torch.optim.lr_scheduler import ReduceLROnPlateau\n",
    "\n",
    "\n",
    "\n",
    "#define transfrom to the data\n",
    "data_transform = transforms.Compose(\n",
    "       [transforms.Resize((50,50)),\n",
    "        transforms.Grayscale(1),\n",
    "        transforms.ToTensor(),\n",
    "        transforms.Normalize(mean=[0.406],\n",
    "                             std=[0.225])\n",
    "    ])\n",
    "\n",
    "#import photo data \n",
    "cell_dataset = datasets.ImageFolder(root='../cell_images/',transform=data_transform)\n",
    "\n",
    "data_transform = transforms.Compose(\n",
    "       [transforms.Resize((50,50)),\n",
    "        transforms.Grayscale(1),\n",
    "        transforms.ToTensor(),\n",
    "        transforms.Normalize(mean=[0.406],\n",
    "                             std=[0.225])\n",
    "    ])\n",
    "\n",
    "#import photo data \n",
    "cell_dataset = datasets.ImageFolder(root='../cell_images/',transform=data_transform)\n",
    "\n",
    "#define dataloader\n",
    "dataset_loader = DataLoader(cell_dataset,batch_size=4, shuffle=True,num_workers=4)\n",
    "\n",
    "\n",
    "split1 = int(0.1 * len(cell_dataset))\n",
    "split2 = int(0.9 * len(cell_dataset))\n",
    "index_list = list(range(len(cell_dataset)))\n",
    "np.random.shuffle(index_list) \n",
    "test_idx = index_list[:split1]+index_list[split2:]\n",
    "train_idx=index_list[split1:split2]\n",
    "\n",
    "## create training and validation sampler objects\n",
    "tr_sampler = SubsetRandomSampler(train_idx)\n",
    "val_sampler = SubsetRandomSampler(test_idx)\n",
    "#trainset=cell_dataset[split1:split2]\n",
    "\n",
    "## create iterator objects for train and valid datasets\n",
    "trainloader = DataLoader(cell_dataset, batch_size=16,sampler=tr_sampler,num_workers=1)\n",
    "validloader = DataLoader(cell_dataset, batch_size=16,sampler=val_sampler,num_workers=1)\n"
   ]
  },
  {
   "cell_type": "code",
   "execution_count": 35,
   "metadata": {},
   "outputs": [
    {
     "name": "stderr",
     "output_type": "stream",
     "text": [
      "Clipping input data to the valid range for imshow with RGB data ([0..1] for floats or [0..255] for integers).\n"
     ]
    },
    {
     "name": "stdout",
     "output_type": "stream",
     "text": [
      "torch.Size([4, 1, 50, 50])\n"
     ]
    },
    {
     "data": {
      "image/png": "[encoded data removed]",
      "text/plain": [
       "<Figure size 432x288 with 1 Axes>"
      ]
     },
     "metadata": {
      "needs_background": "light"
     },
     "output_type": "display_data"
    },
    {
     "name": "stdout",
     "output_type": "stream",
     "text": [
      "Uninfected Uninfected Parasitized Uninfected\n",
      "tensor(1.2805)\n"
     ]
    }
   ],
   "source": [
    "# functions to show an image\n",
    "classes=(\"Parasitized\",\"Uninfected\")\n",
    "\n",
    "def imshow(img):\n",
    "    img = img / 2 + 0.5     # unnormalize\n",
    "    npimg = img.numpy()\n",
    "    plt.imshow(np.transpose(npimg, (1, 2, 0)))\n",
    "    plt.show()\n",
    "\n",
    "\n",
    "# get some random training images\n",
    "dataiter = iter(dataset_loader)\n",
    "images, labels = dataiter.next()\n",
    "#encode = autoencoder2(images)\n",
    "\n",
    "print(images.shape)\n",
    "\n",
    "# show images\n",
    "imshow(torchvision.utils.make_grid(images))\n",
    "# print labels\n",
    "print(' '.join('%5s' % classes[labels[j]] for j in range(4)))\n",
    "\n",
    "train_loader = iter(trainloader)\n",
    "img, l = train_loader.next()"
   ]
  },
  {
   "cell_type": "markdown",
   "metadata": {},
   "source": [
    "<h1>As it can be seen in the pictures, I sample the images down to 50x50 dimensions with torch transforms, I also convert them to grayscale.</h1>"
   ]
  },
  {
   "cell_type": "markdown",
   "metadata": {},
   "source": [
    "<p>\n",
    "    I don't train in the whole train set because it is pointless, the gradient vanishes super quickly in the first layers (convs), thus making training super hard. A solution for this would be to implement BatchNorm or ResBlocks, but for the time given this was all I could do.\n",
    "</p>\n",
    "\n",
    "<h3>\n",
    "    <div style=\"color: red;\">Look up:</div>\n",
    "    <p>There is an if condition inside the for loop that breaks the training very early because I don't see the value in training with no vanishing gradient measures. (I am sure this is a vanishing gradient problem, because I have tested it with mnist too, for networks with 4-5+ layers, the gradient in the first convs goes down to values like 1e-9\n",
    "</h3>\n",
    "\n",
    "<h4>\n",
    "    <div style=\"color: blue;\">Clarification:</div>\n",
    "    <p>In the C++ code and bindings there is also Model class exposed to Python, but I don't use it, because it makes the ipykernel crash without an explanation, that is why I have build the network as you can see below.</p>\n",
    "</h4>"
   ]
  },
  {
   "cell_type": "code",
   "execution_count": 3,
   "metadata": {
    "scrolled": true
   },
   "outputs": [
    {
     "name": "stdout",
     "output_type": "stream",
     "text": [
      "Error:  0.6920281809866531 Batch:  0  Epoch:  0\n",
      "Error:  0.6938319484899129 Batch:  1  Epoch:  0\n",
      "Error:  0.692450920054781 Batch:  2  Epoch:  0\n",
      "Error:  0.6924989396419448 Batch:  3  Epoch:  0\n",
      "Error:  0.6931527982543195 Batch:  4  Epoch:  0\n",
      "Error:  0.6924474087302062 Batch:  5  Epoch:  0\n",
      "Error:  0.6924272196005148 Batch:  6  Epoch:  0\n",
      "Error:  0.6927706125375389 Batch:  7  Epoch:  0\n",
      "Error:  0.6924733863319709 Batch:  8  Epoch:  0\n",
      "Error:  0.6931874764656057 Batch:  9  Epoch:  0\n",
      "Error:  0.6931683923648092 Batch:  10  Epoch:  0\n",
      "Error:  0.6924725808692342 Batch:  11  Epoch:  0\n",
      "Error:  0.693897941044749 Batch:  12  Epoch:  0\n",
      "Error:  0.6924307198223468 Batch:  13  Epoch:  0\n",
      "Error:  0.6931114978494939 Batch:  14  Epoch:  0\n",
      "Error:  0.6927898506101988 Batch:  15  Epoch:  0\n",
      "Error:  0.6920460343655276 Batch:  16  Epoch:  0\n",
      "Error:  0.6927594377507958 Batch:  17  Epoch:  0\n",
      "Error:  0.6923367784155136 Batch:  18  Epoch:  0\n",
      "Error:  0.6923941423251206 Batch:  19  Epoch:  0\n",
      "Error:  0.694257177558814 Batch:  20  Epoch:  0\n",
      "Error:  0.6925003964593692 Batch:  21  Epoch:  0\n",
      "Error:  0.6939586013432981 Batch:  22  Epoch:  0\n",
      "Error:  0.6931473216348109 Batch:  23  Epoch:  0\n",
      "Error:  0.6924185248308935 Batch:  24  Epoch:  0\n",
      "Error:  0.6920434454292721 Batch:  25  Epoch:  0\n",
      "Error:  0.6931969618778564 Batch:  26  Epoch:  0\n",
      "Error:  0.6931364830628767 Batch:  27  Epoch:  0\n",
      "Error:  0.692429215001806 Batch:  28  Epoch:  0\n",
      "Error:  0.6928088752006575 Batch:  29  Epoch:  0\n",
      "Error:  0.6939147213257633 Batch:  30  Epoch:  0\n",
      "Error:  0.6924510135489332 Batch:  31  Epoch:  0\n",
      "Error:  0.6931681120319392 Batch:  32  Epoch:  0\n",
      "Error:  0.6927695646933614 Batch:  33  Epoch:  0\n",
      "Error:  0.6920331727544767 Batch:  34  Epoch:  0\n",
      "Error:  0.6924468524642273 Batch:  35  Epoch:  0\n",
      "Error:  0.6924195189956028 Batch:  36  Epoch:  0\n",
      "Error:  0.6928174178169604 Batch:  37  Epoch:  0\n",
      "Error:  0.6935529254903033 Batch:  38  Epoch:  0\n",
      "Error:  0.6927613946312039 Batch:  39  Epoch:  0\n",
      "Error:  0.6927868416634503 Batch:  40  Epoch:  0\n",
      "Error:  0.6946314837763733 Batch:  41  Epoch:  0\n",
      "Error:  0.6938727415134618 Batch:  42  Epoch:  0\n",
      "Error:  0.693901512083083 Batch:  43  Epoch:  0\n",
      "Error:  0.6927554181115444 Batch:  44  Epoch:  0\n",
      "Error:  0.6946918102741995 Batch:  45  Epoch:  0\n",
      "Error:  0.6923674544687151 Batch:  46  Epoch:  0\n",
      "Error:  0.6939233648146151 Batch:  47  Epoch:  0\n",
      "Error:  0.6931571256372194 Batch:  48  Epoch:  0\n",
      "Error:  0.6931732254702605 Batch:  49  Epoch:  0\n",
      "Error:  0.6923964388660057 Batch:  50  Epoch:  0\n",
      "Error:  0.6927960371153136 Batch:  51  Epoch:  0\n",
      "Error:  0.6935092936276104 Batch:  52  Epoch:  0\n",
      "Error:  0.692434646563562 Batch:  53  Epoch:  0\n",
      "Error:  0.694207448153998 Batch:  54  Epoch:  0\n",
      "Error:  0.6931459428457551 Batch:  55  Epoch:  0\n",
      "Error:  0.6920073908307003 Batch:  56  Epoch:  0\n",
      "Error:  0.6928045081221101 Batch:  57  Epoch:  0\n",
      "Error:  0.6935230480308757 Batch:  58  Epoch:  0\n",
      "Error:  0.6931548380448553 Batch:  59  Epoch:  0\n",
      "Error:  0.6923932318241126 Batch:  60  Epoch:  0\n",
      "Error:  0.6931414867240907 Batch:  61  Epoch:  0\n",
      "Error:  0.6939051610855043 Batch:  62  Epoch:  0\n",
      "Error:  0.6938167899841865 Batch:  63  Epoch:  0\n",
      "Error:  0.6913552984556647 Batch:  64  Epoch:  0\n",
      "Error:  0.6927659287120778 Batch:  65  Epoch:  0\n",
      "Error:  0.6923884884942351 Batch:  66  Epoch:  0\n",
      "Error:  0.6917423138632295 Batch:  67  Epoch:  0\n",
      "Error:  0.6928045320075251 Batch:  68  Epoch:  0\n",
      "Error:  0.6931355458447571 Batch:  69  Epoch:  0\n",
      "Error:  0.6931899565649873 Batch:  70  Epoch:  0\n",
      "Error:  0.6931724236444121 Batch:  71  Epoch:  0\n",
      "Error:  0.6930673449961418 Batch:  72  Epoch:  0\n",
      "Error:  0.6927712542102993 Batch:  73  Epoch:  0\n",
      "Error:  0.6935203386019299 Batch:  74  Epoch:  0\n",
      "Error:  0.6923824289582948 Batch:  75  Epoch:  0\n",
      "Error:  0.6920587333789275 Batch:  76  Epoch:  0\n",
      "Error:  0.6942379694479667 Batch:  77  Epoch:  0\n",
      "Error:  0.6942065954704051 Batch:  78  Epoch:  0\n",
      "Error:  0.692387538702322 Batch:  79  Epoch:  0\n",
      "Error:  0.6938657862434556 Batch:  80  Epoch:  0\n",
      "Error:  0.6923618315326611 Batch:  81  Epoch:  0\n",
      "Error:  0.6934873563785408 Batch:  82  Epoch:  0\n",
      "Error:  0.693939274445943 Batch:  83  Epoch:  0\n",
      "Error:  0.6927738736326524 Batch:  84  Epoch:  0\n",
      "Error:  0.6935388325279791 Batch:  85  Epoch:  0\n",
      "Error:  0.6924354889036252 Batch:  0  Epoch:  1\n",
      "Error:  0.692480591971161 Batch:  1  Epoch:  1\n",
      "Error:  0.6935633611645293 Batch:  2  Epoch:  1\n",
      "Error:  0.6938910309092727 Batch:  3  Epoch:  1\n",
      "Error:  0.6931283472986215 Batch:  4  Epoch:  1\n",
      "Error:  0.6938372129540945 Batch:  5  Epoch:  1\n",
      "Error:  0.6921101384298325 Batch:  6  Epoch:  1\n",
      "Error:  0.6935100945120029 Batch:  7  Epoch:  1\n",
      "Error:  0.6927875991130893 Batch:  8  Epoch:  1\n",
      "Error:  0.6927954265588442 Batch:  9  Epoch:  1\n",
      "Error:  0.6927950079770977 Batch:  10  Epoch:  1\n",
      "Error:  0.6939106276666853 Batch:  11  Epoch:  1\n",
      "Error:  0.6923927037957358 Batch:  12  Epoch:  1\n",
      "Error:  0.692378370646201 Batch:  13  Epoch:  1\n",
      "Error:  0.693886098882149 Batch:  14  Epoch:  1\n",
      "Error:  0.6927963607314098 Batch:  15  Epoch:  1\n",
      "Error:  0.6927863131344042 Batch:  16  Epoch:  1\n",
      "Error:  0.6931408221505615 Batch:  17  Epoch:  1\n",
      "Error:  0.6931632978519615 Batch:  18  Epoch:  1\n",
      "Error:  0.6924087087067523 Batch:  19  Epoch:  1\n",
      "Error:  0.69241529858034 Batch:  20  Epoch:  1\n",
      "Error:  0.6924450792597753 Batch:  21  Epoch:  1\n",
      "Error:  0.6934957419475993 Batch:  22  Epoch:  1\n",
      "Error:  0.6934907471887278 Batch:  23  Epoch:  1\n",
      "Error:  0.6934897365784156 Batch:  24  Epoch:  1\n",
      "Error:  0.6942641044138045 Batch:  25  Epoch:  1\n",
      "Error:  0.69317710231998 Batch:  26  Epoch:  1\n",
      "Error:  0.6931037323934308 Batch:  27  Epoch:  1\n",
      "Error:  0.6924086896139825 Batch:  28  Epoch:  1\n",
      "Error:  0.6924031531577405 Batch:  29  Epoch:  1\n",
      "Error:  0.6931239926366598 Batch:  30  Epoch:  1\n",
      "Error:  0.6917066963428014 Batch:  31  Epoch:  1\n",
      "Error:  0.6920390595696337 Batch:  32  Epoch:  1\n",
      "Error:  0.6927983790364555 Batch:  33  Epoch:  1\n",
      "Error:  0.6931600283451456 Batch:  34  Epoch:  1\n",
      "Error:  0.6931354154992441 Batch:  35  Epoch:  1\n",
      "Error:  0.6924129925857658 Batch:  36  Epoch:  1\n",
      "Error:  0.6924262964477959 Batch:  37  Epoch:  1\n",
      "Error:  0.6927709427445843 Batch:  38  Epoch:  1\n",
      "Error:  0.6924425595348289 Batch:  39  Epoch:  1\n",
      "Error:  0.6924238759978447 Batch:  40  Epoch:  1\n",
      "Error:  0.693872121163908 Batch:  41  Epoch:  1\n",
      "Error:  0.6946561508940576 Batch:  42  Epoch:  1\n",
      "Error:  0.6931641979760784 Batch:  43  Epoch:  1\n",
      "Error:  0.6931366207391996 Batch:  44  Epoch:  1\n",
      "Error:  0.6927804685896372 Batch:  45  Epoch:  1\n",
      "Error:  0.6931269806500101 Batch:  46  Epoch:  1\n",
      "Error:  0.6938885883554662 Batch:  47  Epoch:  1\n",
      "Error:  0.692384316135902 Batch:  48  Epoch:  1\n",
      "Error:  0.6931738715725859 Batch:  49  Epoch:  1\n",
      "Error:  0.6920994458377556 Batch:  50  Epoch:  1\n",
      "Error:  0.6935250777363209 Batch:  51  Epoch:  1\n",
      "Error:  0.6934775333151993 Batch:  52  Epoch:  1\n",
      "Error:  0.6946128844667736 Batch:  53  Epoch:  1\n",
      "Error:  0.6927838496700809 Batch:  54  Epoch:  1\n",
      "Error:  0.6928371044920234 Batch:  55  Epoch:  1\n",
      "Error:  0.6938606722870289 Batch:  56  Epoch:  1\n",
      "Error:  0.692804122944603 Batch:  57  Epoch:  1\n",
      "Error:  0.6927927970935467 Batch:  58  Epoch:  1\n",
      "Error:  0.6920387090962955 Batch:  59  Epoch:  1\n",
      "Error:  0.6942418249235249 Batch:  60  Epoch:  1\n",
      "Error:  0.693839644559996 Batch:  61  Epoch:  1\n",
      "Error:  0.6935091684042347 Batch:  62  Epoch:  1\n",
      "Error:  0.6934991367159099 Batch:  63  Epoch:  1\n",
      "Error:  0.6927905910153586 Batch:  64  Epoch:  1\n",
      "Error:  0.6938908746002942 Batch:  65  Epoch:  1\n",
      "Error:  0.6931693232556737 Batch:  66  Epoch:  1\n",
      "Error:  0.6938853289403969 Batch:  67  Epoch:  1\n",
      "Error:  0.691371086793726 Batch:  68  Epoch:  1\n",
      "Error:  0.6924170915966377 Batch:  69  Epoch:  1\n",
      "Error:  0.6931479087842357 Batch:  70  Epoch:  1\n",
      "Error:  0.6924350657625888 Batch:  71  Epoch:  1\n",
      "Error:  0.6924098530737264 Batch:  72  Epoch:  1\n",
      "Error:  0.6928169299435752 Batch:  73  Epoch:  1\n",
      "Error:  0.6939051984173584 Batch:  74  Epoch:  1\n",
      "Error:  0.6928270827041287 Batch:  75  Epoch:  1\n",
      "Error:  0.6931504985957636 Batch:  76  Epoch:  1\n",
      "Error:  0.6931522025709312 Batch:  77  Epoch:  1\n",
      "Error:  0.6931339879803888 Batch:  78  Epoch:  1\n",
      "Error:  0.6931667161521268 Batch:  79  Epoch:  1\n",
      "Error:  0.693526390058246 Batch:  80  Epoch:  1\n",
      "Error:  0.6939011557401322 Batch:  81  Epoch:  1\n",
      "Error:  0.6935309240665196 Batch:  82  Epoch:  1\n"
     ]
    },
    {
     "name": "stdout",
     "output_type": "stream",
     "text": [
      "Error:  0.6917112761688213 Batch:  83  Epoch:  1\n",
      "Error:  0.6935196143109515 Batch:  84  Epoch:  1\n",
      "Error:  0.6931460305230264 Batch:  85  Epoch:  1\n"
     ]
    }
   ],
   "source": [
    "from libdl import DenseLayer, Convolution, MaxPool, ReLU, BinaryCrossEntropy, Sigmoid, TensorWrapper\n",
    "\n",
    "conv1 = Convolution(\"conv1\", 7, 16, 0, 1, 1, 16)\n",
    "relu1 = ReLU()\n",
    "#pool2 = MaxPool(2, 2)\n",
    "conv2 = Convolution(\"conv2\", 5, 16, 0, 1, 16, 16)\n",
    "relu2 = ReLU()\n",
    "pool1 = MaxPool(2, 2)\n",
    "dense1 = DenseLayer(6400, 3000, \"dense2\", 10)\n",
    "relu3 = ReLU()\n",
    "dense2 = DenseLayer(3000, 200, \"dense2\", 10)\n",
    "relu4 = ReLU()\n",
    "dense3 = DenseLayer(200, 1, \"dense3\", 10)\n",
    "sigmoid = Sigmoid()\n",
    "\n",
    "binary_cross_entropy = BinaryCrossEntropy()\n",
    "\n",
    "batch_size = 16\n",
    "lr = 1e-5\n",
    "epochs = 2\n",
    "\n",
    "data = TensorWrapper(batch_size, 50, 50, 1, False)\n",
    "labels = TensorWrapper(batch_size, 1, 1, 1, False)\n",
    "\n",
    "out = TensorWrapper(batch_size, 44, 44, 16, False)\n",
    "grads = TensorWrapper(batch_size, 1, 1, 1, False)\n",
    "\n",
    "\n",
    "\n",
    "for epoch in range(epochs):\n",
    "    train_loader = iter(trainloader)\n",
    "    \n",
    "    for b in range(int(len(trainloader)/batch_size)):\n",
    "        if b == 200:\n",
    "            break\n",
    "        \n",
    "        data_tensor, labels_tensor = train_loader.next()\n",
    "        data_tensor = np.reshape(data_tensor, (data_tensor.shape[0], -1))\n",
    "        \n",
    "        data.set_tensor(data_tensor, 50, 50, 1)\n",
    "        labels.set_tensor(labels_tensor, 1, 1, 1)\n",
    "        \n",
    "        out = conv1.forward(data)\n",
    "        out = relu1.forward(out)\n",
    "        #out = pool2.forward(out)\n",
    "        out = conv2.forward(out)\n",
    "        out = relu2.forward(out)\n",
    "        out = pool1.forward(out)\n",
    "        out = dense1.forward(out)\n",
    "        out = relu3.forward(out)\n",
    "        out = dense2.forward(out)\n",
    "        out = relu4.forward(out)\n",
    "        out = dense3.forward(out)\n",
    "        out = sigmoid.forward(out)\n",
    "        \n",
    "        \n",
    "        from_bce = binary_cross_entropy.get_gradient(out.get_tensor(), labels.get_tensor(), epoch)\n",
    "        \n",
    "        error = binary_cross_entropy.get_errors()[-1]\n",
    "        \n",
    "        print(\"Error: \", error/batch_size, \"Batch: \", b, \" Epoch: \", epoch)\n",
    "        \n",
    "        grads.set_tensor(from_bce, 1, 1, 1)\n",
    "        \n",
    "        grads = sigmoid.backward(grads, lr)\n",
    "        grads = dense3.backward(grads, lr)\n",
    "        grads = relu4.backward(grads, lr)\n",
    "        grads = dense2.backward(grads, lr)\n",
    "        grads = relu3.backward(grads, lr)\n",
    "        grads = dense1.backward(grads, lr)\n",
    "        grads = pool1.backward(grads, lr)\n",
    "        grads = relu2.backward(grads, lr)\n",
    "        grads = conv2.backward(grads, lr)\n",
    "        #grads = pool2.backward(grads, lr)\n",
    "        grads = relu1.backward(grads, lr)\n",
    "        grads = conv1.backward(grads, lr)\n",
    "        \n",
    "    "
   ]
  },
  {
   "cell_type": "code",
   "execution_count": 4,
   "metadata": {},
   "outputs": [
    {
     "data": {
      "image/png": "[encoded data removed]",
      "text/plain": [
       "<Figure size 432x288 with 1 Axes>"
      ]
     },
     "metadata": {
      "needs_background": "light"
     },
     "output_type": "display_data"
    }
   ],
   "source": [
    "errors = binary_cross_entropy.get_errors()\n",
    "errors = np.array(errors)\n",
    "errors /= batch_size\n",
    "\n",
    "plt.plot( errors)\n",
    "plt.show()"
   ]
  },
  {
   "cell_type": "code",
   "execution_count": 8,
   "metadata": {},
   "outputs": [
    {
     "name": "stdout",
     "output_type": "stream",
     "text": [
      "Accuracy:  37.5\n"
     ]
    }
   ],
   "source": [
    "validation_loader = iter(validloader)\n",
    "\n",
    "ims, labs = validation_loader.next()\n",
    "\n",
    "ims = np.reshape(ims, (ims.shape[0], -1))\n",
    "\n",
    "data.set_tensor(data_tensor, 50, 50, 1)\n",
    "labels.set_tensor(labs, 1, 1, 1)\n",
    "\n",
    "out = conv1.forward(data)\n",
    "out = relu1.forward(out)\n",
    "#out = pool2.forward(out)\n",
    "out = conv2.forward(out)\n",
    "out = relu2.forward(out)\n",
    "out = pool1.forward(out)\n",
    "out = dense1.forward(out)\n",
    "out = relu3.forward(out)\n",
    "out = dense2.forward(out)\n",
    "out = relu4.forward(out)\n",
    "out = dense3.forward(out)\n",
    "out = sigmoid.forward(out)\n",
    "\n",
    "out_arr = out.get_tensor()\n",
    "\n",
    "out_arr = [1 for element in out_arr if element > 0]\n",
    "\n",
    "out_arr = np.array(out_arr)\n",
    "labs = np.array(labs)\n",
    "\n",
    "\n",
    "acc = np.sum(out_arr == labs)\n",
    "\n",
    "print(\"Accuracy: \", acc/batch_size * 100)"
   ]
  },
  {
   "cell_type": "code",
   "execution_count": 23,
   "metadata": {},
   "outputs": [
    {
     "name": "stdout",
     "output_type": "stream",
     "text": [
      "(16, 7, 7)\n"
     ]
    },
    {
     "data": {
      "image/png": "[encoded data removed]",
      "text/plain": [
       "<Figure size 432x288 with 1 Axes>"
      ]
     },
     "metadata": {
      "needs_background": "light"
     },
     "output_type": "display_data"
    },
    {
     "data": {
      "image/png": "[encoded data removed]",
      "text/plain": [
       "<Figure size 432x288 with 1 Axes>"
      ]
     },
     "metadata": {
      "needs_background": "light"
     },
     "output_type": "display_data"
    },
    {
     "data": {
      "image/png": "[encoded data removed]",
      "text/plain": [
       "<Figure size 432x288 with 1 Axes>"
      ]
     },
     "metadata": {
      "needs_background": "light"
     },
     "output_type": "display_data"
    },
    {
     "name": "stdout",
     "output_type": "stream",
     "text": [
      "From first layer of convolution\n"
     ]
    }
   ],
   "source": [
    "conv1_filters = conv1.get_filters()\n",
    "conv2_filters = conv2.get_filters()\n",
    "\n",
    "conv1_filters = np.reshape(conv1_filters, (conv1_filters.shape[0], 7, 7))\n",
    "conv2_filters = np.reshape(conv2_filters, (conv2_filters.shape[0], 5, 5, -1))\n",
    "\n",
    "# functions to show an image\n",
    "classes=(\"Conv1\",\"Conv2\")\n",
    "\n",
    "def imshow(img):\n",
    "    #img = img / 2 + 0.5     # unnormalize\n",
    "    #npimg = img.numpy()\n",
    "    plt.imshow(img)\n",
    "    plt.show()\n",
    "\n",
    "\n",
    "print(conv1_filters.shape)\n",
    "\n",
    "# show images\n",
    "imshow(conv1_filters[0])\n",
    "imshow(conv1_filters[1])\n",
    "imshow(conv1_filters[2])\n",
    "# print labels\n",
    "print(\"From first layer of convolution\")"
   ]
  },
  {
   "cell_type": "code",
   "execution_count": 26,
   "metadata": {},
   "outputs": [
    {
     "data": {
      "image/png": "[encoded data removed]",
      "text/plain": [
       "<Figure size 432x288 with 1 Axes>"
      ]
     },
     "metadata": {
      "needs_background": "light"
     },
     "output_type": "display_data"
    },
    {
     "data": {
      "image/png": "[encoded data removed]",
      "text/plain": [
       "<Figure size 432x288 with 1 Axes>"
      ]
     },
     "metadata": {
      "needs_background": "light"
     },
     "output_type": "display_data"
    },
    {
     "data": {
      "image/png": "[encoded data removed]",
      "text/plain": [
       "<Figure size 432x288 with 1 Axes>"
      ]
     },
     "metadata": {
      "needs_background": "light"
     },
     "output_type": "display_data"
    },
    {
     "name": "stdout",
     "output_type": "stream",
     "text": [
      "From second layer of convolution\n"
     ]
    }
   ],
   "source": [
    "# show images\n",
    "imshow(conv2_filters[0, :, :, 0])\n",
    "imshow(conv2_filters[0, :, :, 1])\n",
    "imshow(conv2_filters[0, :, :, 2])\n",
    "# print labels\n",
    "print(\"From second layer of convolution\")"
   ]
  },
  {
   "cell_type": "code",
   "execution_count": null,
   "metadata": {},
   "outputs": [],
   "source": []
  }
 ],
 "metadata": {
  "kernelspec": {
   "display_name": "Python 3",
   "language": "python",
   "name": "python3"
  },
  "language_info": {
   "codemirror_mode": {
    "name": "ipython",
    "version": 3
   },
   "file_extension": ".py",
   "mimetype": "text/x-python",
   "name": "python",
   "nbconvert_exporter": "python",
   "pygments_lexer": "ipython3",
   "version": "3.7.3"
  }
 },
 "nbformat": 4,
 "nbformat_minor": 2
}
