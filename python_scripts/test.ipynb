{
 "cells": [
  {
   "cell_type": "code",
   "execution_count": 1,
   "metadata": {},
   "outputs": [
    {
     "name": "stderr",
     "output_type": "stream",
     "text": [
      "/usr/local/lib/python3.7/site-packages/tensorflow/python/framework/dtypes.py:516: FutureWarning: Passing (type, 1) or '1type' as a synonym of type is deprecated; in a future version of numpy, it will be understood as (type, (1,)) / '(1,)type'.\n",
      "  _np_qint8 = np.dtype([(\"qint8\", np.int8, 1)])\n",
      "/usr/local/lib/python3.7/site-packages/tensorflow/python/framework/dtypes.py:517: FutureWarning: Passing (type, 1) or '1type' as a synonym of type is deprecated; in a future version of numpy, it will be understood as (type, (1,)) / '(1,)type'.\n",
      "  _np_quint8 = np.dtype([(\"quint8\", np.uint8, 1)])\n",
      "/usr/local/lib/python3.7/site-packages/tensorflow/python/framework/dtypes.py:518: FutureWarning: Passing (type, 1) or '1type' as a synonym of type is deprecated; in a future version of numpy, it will be understood as (type, (1,)) / '(1,)type'.\n",
      "  _np_qint16 = np.dtype([(\"qint16\", np.int16, 1)])\n",
      "/usr/local/lib/python3.7/site-packages/tensorflow/python/framework/dtypes.py:519: FutureWarning: Passing (type, 1) or '1type' as a synonym of type is deprecated; in a future version of numpy, it will be understood as (type, (1,)) / '(1,)type'.\n",
      "  _np_quint16 = np.dtype([(\"quint16\", np.uint16, 1)])\n",
      "/usr/local/lib/python3.7/site-packages/tensorflow/python/framework/dtypes.py:520: FutureWarning: Passing (type, 1) or '1type' as a synonym of type is deprecated; in a future version of numpy, it will be understood as (type, (1,)) / '(1,)type'.\n",
      "  _np_qint32 = np.dtype([(\"qint32\", np.int32, 1)])\n",
      "/usr/local/lib/python3.7/site-packages/tensorflow/python/framework/dtypes.py:525: FutureWarning: Passing (type, 1) or '1type' as a synonym of type is deprecated; in a future version of numpy, it will be understood as (type, (1,)) / '(1,)type'.\n",
      "  np_resource = np.dtype([(\"resource\", np.ubyte, 1)])\n",
      "/usr/local/lib/python3.7/site-packages/tensorboard/compat/tensorflow_stub/dtypes.py:541: FutureWarning: Passing (type, 1) or '1type' as a synonym of type is deprecated; in a future version of numpy, it will be understood as (type, (1,)) / '(1,)type'.\n",
      "  _np_qint8 = np.dtype([(\"qint8\", np.int8, 1)])\n",
      "/usr/local/lib/python3.7/site-packages/tensorboard/compat/tensorflow_stub/dtypes.py:542: FutureWarning: Passing (type, 1) or '1type' as a synonym of type is deprecated; in a future version of numpy, it will be understood as (type, (1,)) / '(1,)type'.\n",
      "  _np_quint8 = np.dtype([(\"quint8\", np.uint8, 1)])\n",
      "/usr/local/lib/python3.7/site-packages/tensorboard/compat/tensorflow_stub/dtypes.py:543: FutureWarning: Passing (type, 1) or '1type' as a synonym of type is deprecated; in a future version of numpy, it will be understood as (type, (1,)) / '(1,)type'.\n",
      "  _np_qint16 = np.dtype([(\"qint16\", np.int16, 1)])\n",
      "/usr/local/lib/python3.7/site-packages/tensorboard/compat/tensorflow_stub/dtypes.py:544: FutureWarning: Passing (type, 1) or '1type' as a synonym of type is deprecated; in a future version of numpy, it will be understood as (type, (1,)) / '(1,)type'.\n",
      "  _np_quint16 = np.dtype([(\"quint16\", np.uint16, 1)])\n",
      "/usr/local/lib/python3.7/site-packages/tensorboard/compat/tensorflow_stub/dtypes.py:545: FutureWarning: Passing (type, 1) or '1type' as a synonym of type is deprecated; in a future version of numpy, it will be understood as (type, (1,)) / '(1,)type'.\n",
      "  _np_qint32 = np.dtype([(\"qint32\", np.int32, 1)])\n",
      "/usr/local/lib/python3.7/site-packages/tensorboard/compat/tensorflow_stub/dtypes.py:550: FutureWarning: Passing (type, 1) or '1type' as a synonym of type is deprecated; in a future version of numpy, it will be understood as (type, (1,)) / '(1,)type'.\n",
      "  np_resource = np.dtype([(\"resource\", np.ubyte, 1)])\n"
     ]
    },
    {
     "name": "stdout",
     "output_type": "stream",
     "text": [
      "(60000, 28, 28)\n"
     ]
    }
   ],
   "source": [
    "from libdl import Model, DenseLayer, ReLU\n",
    "import torch\n",
    "import numpy as np\n",
    "from python_scripts.data_functionality import Convolution"
   ]
  },
  {
   "cell_type": "code",
   "execution_count": 2,
   "metadata": {},
   "outputs": [],
   "source": [
    "model = Model(2, 1.0, 4, int(45000/4), \"\", \"cross_entropy\", 10)\n",
    "\n",
    "model.add(DenseLayer(784, 400, \"dense1\", 10))\n",
    "model.add(ReLU())\n",
    "model.add(DenseLayer(400, 200, \"dense2\", 10))\n",
    "model.add(ReLU())\n",
    "model.add(DenseLayer(200, 10, \"dense3\", 10))\n",
    "model.add(ReLU())\n"
   ]
  },
  {
   "cell_type": "code",
   "execution_count": 3,
   "metadata": {},
   "outputs": [
    {
     "name": "stdout",
     "output_type": "stream",
     "text": [
      "(60000, 28, 28)\n",
      "(60000, 784)\n"
     ]
    }
   ],
   "source": [
    "#Download mnist and feed it to the network\n",
    "from tensorflow.keras.datasets import mnist\n",
    "\n",
    "(train_data, train_labels), (test_data, test_labels) = mnist.load_data()\n",
    "print(train_data.shape)\n",
    "\n",
    "train_data = np.reshape(train_data, (train_data.shape[0], -1))\n",
    "\n",
    "print(train_data.shape)"
   ]
  },
  {
   "cell_type": "code",
   "execution_count": 4,
   "metadata": {},
   "outputs": [
    {
     "name": "stdout",
     "output_type": "stream",
     "text": [
      "(60000, 784)\n"
     ]
    }
   ],
   "source": [
    "from libdl import TensorWrapper\n",
    "data = TensorWrapper(1, 28, 28, 1, False)\n",
    "labels = TensorWrapper(1, 1, 1, 1, False)\n",
    "print(train_data.shape)"
   ]
  },
  {
   "cell_type": "code",
   "execution_count": 5,
   "metadata": {},
   "outputs": [
    {
     "name": "stdout",
     "output_type": "stream",
     "text": [
      "5.0\n",
      "Batch:  0  Loss:  2.3522707156647065\n",
      "From crossentropy:  [[ 0.11204971  0.08476638  0.10878219  0.10387607  0.10100397 -0.90484715\n",
      "   0.09698477  0.08160807  0.09996265  0.11581333]] \n",
      "From clacs:  [[ 0.11204971  0.08476638  0.10878219  0.10387607  0.10100397 -0.90484715\n",
      "   0.09698477  0.08160807  0.09996265  0.11581333]]\n",
      "Epoch:  0\n",
      "Batch:  2  Loss:  4.673137647256162\n",
      "From crossentropy:  [[ 0.1126514   0.08344076  0.12127676  0.10394607 -0.90181157  0.10422841\n",
      "   0.08679232  0.08939863  0.0930245   0.10705273]] \n",
      "From clacs:  [[ 0.1126514   0.08344076  0.12127676  0.10394607 -0.90181157  0.10422841\n",
      "   0.08679232  0.08939863  0.0930245   0.10705273]]\n",
      "Batch:  4  Loss:  6.828587829385775\n",
      "From crossentropy:  [[ 0.11423353  0.07748997  0.13295496  0.10523309  0.0971521   0.09598211\n",
      "   0.08322728  0.08572875  0.09214718 -0.88414898]] \n",
      "From clacs:  [[ 0.11423353  0.07748997  0.13295496  0.10523309  0.0971521   0.09598211\n",
      "   0.08322728  0.08572875  0.09214718 -0.88414898]]\n",
      "Batch:  6  Loss:  9.177711160925185\n",
      "From crossentropy:  [[ 0.107221   -0.90454719  0.10904055  0.09338709  0.11219186  0.11218318\n",
      "   0.08618281  0.08781369  0.08942446  0.10710254]] \n",
      "From clacs:  [[ 0.107221   -0.90454719  0.10904055  0.09338709  0.11219186  0.11218318\n",
      "   0.08618281  0.08781369  0.08942446  0.10710254]]\n",
      "Batch:  8  Loss:  11.504248263965714\n",
      "From crossentropy:  [[ 0.10164231 -0.90236674  0.10726775  0.09545953  0.10335927  0.10126334\n",
      "   0.09264158  0.09160556  0.09892957  0.11019784]] \n",
      "From clacs:  [[ 0.10164231 -0.90236674  0.10726775  0.09545953  0.10335927  0.10126334\n",
      "   0.09264158  0.09160556  0.09892957  0.11019784]]\n",
      "Batch:  10  Loss:  14.263043308200132\n",
      "From crossentropy:  [[ 0.10729099  0.10741096  0.1199046  -0.93663192  0.11157458  0.11426259\n",
      "   0.06943635  0.07963768  0.11111303  0.11600115]] \n",
      "From clacs:  [[ 0.10729099  0.10741096  0.1199046  -0.93663192  0.11157458  0.11426259\n",
      "   0.06943635  0.07963768  0.11111303  0.11600115]]\n",
      "Batch:  12  Loss:  16.42656017311182\n",
      "From crossentropy:  [[ 0.10725037  0.0900636   0.11873973 -0.88507975  0.10806635  0.09418567\n",
      "   0.05601014  0.06661752  0.1127137   0.13143268]] \n",
      "From clacs:  [[ 0.10725037  0.0900636   0.11873973 -0.88507975  0.10806635  0.09418567\n",
      "   0.05601014  0.06661752  0.1127137   0.13143268]]\n",
      "Batch:  14  Loss:  18.8289993715493\n",
      "From crossentropy:  [[ 0.09459502 -0.90950306  0.09758788  0.18017395  0.09112265  0.08832748\n",
      "   0.08328972  0.07371859  0.09152039  0.10916737]] \n",
      "From clacs:  [[ 0.09459502 -0.90950306  0.09758788  0.18017395  0.09112265  0.08832748\n",
      "   0.08328972  0.07371859  0.09152039  0.10916737]]\n",
      "Batch:  16  Loss:  21.881308571246308\n",
      "From crossentropy:  [[ 0.18149646  0.08636401 -0.95275031  0.28807993  0.17412777  0.07760287\n",
      "   0.02228699  0.01360306  0.01069394  0.09849527]] \n",
      "From clacs:  [[ 0.18149646  0.08636401 -0.95275031  0.28807993  0.17412777  0.07760287\n",
      "   0.02228699  0.01360306  0.01069394  0.09849527]]\n",
      "Batch:  18  Loss:  31.60149112157248\n",
      "From crossentropy:  [[ 2.18137473e-04  3.80357601e-04  9.97336713e-01  5.24579436e-04\n",
      "   1.65647066e-04  4.70356503e-04 -9.99939941e-01  9.07529225e-05\n",
      "   8.47041995e-05  6.68692339e-04]] \n",
      "From clacs:  [[ 2.18137473e-04  3.80357601e-04  9.97336713e-01  5.24579436e-04\n",
      "   1.65647066e-04  4.70356503e-04 -9.99939941e-01  9.07529225e-05\n",
      "   8.47041995e-05  6.68692339e-04]]\n",
      "Batch:  20  Loss:  40.75728087513993\n",
      "From crossentropy:  [[ 1.57598476e-04  7.03086921e-09  1.35019880e-05  2.99765737e-06\n",
      "  -9.99894393e-01  3.89478490e-06  9.99642288e-01  1.82599427e-10\n",
      "   5.23193805e-08  7.40531870e-05]] \n",
      "From clacs:  [[ 1.57598476e-04  7.03086921e-09  1.35019880e-05  2.99765737e-06\n",
      "  -9.99894393e-01  3.89478490e-06  9.99642288e-01  1.82599427e-10\n",
      "   5.23193805e-08  7.40531870e-05]]\n",
      "Epoch:  20\n",
      "Batch:  22  Loss:  nan\n",
      "From crossentropy:  [[nan  0.  0.  0. nan  0.  0.  0.  0. nan]] \n",
      "From clacs:  [[nan  0.  0.  0. nan  0.  0.  0.  0. nan]]\n"
     ]
    },
    {
     "name": "stderr",
     "output_type": "stream",
     "text": [
      "/usr/local/lib/python3.7/site-packages/ipykernel_launcher.py:47: RuntimeWarning: overflow encountered in exp\n",
      "/usr/local/lib/python3.7/site-packages/ipykernel_launcher.py:49: RuntimeWarning: invalid value encountered in true_divide\n"
     ]
    },
    {
     "name": "stdout",
     "output_type": "stream",
     "text": [
      "Batch:  24  Loss:  nan\n",
      "From crossentropy:  [[nan nan nan nan nan nan nan nan nan nan]] \n",
      "From clacs:  [[nan nan nan nan nan nan nan nan nan nan]]\n",
      "Batch:  26  Loss:  nan\n",
      "From crossentropy:  [[nan nan nan nan nan nan nan nan nan nan]] \n",
      "From clacs:  [[nan nan nan nan nan nan nan nan nan nan]]\n",
      "Batch:  28  Loss:  nan\n",
      "From crossentropy:  [[nan nan nan nan nan nan nan nan nan nan]] \n",
      "From clacs:  [[nan nan nan nan nan nan nan nan nan nan]]\n",
      "Batch:  30  Loss:  nan\n",
      "From crossentropy:  [[nan nan nan nan nan nan nan nan nan nan]] \n",
      "From clacs:  [[nan nan nan nan nan nan nan nan nan nan]]\n",
      "Batch:  32  Loss:  nan\n",
      "From crossentropy:  [[nan nan nan nan nan nan nan nan nan nan]] \n",
      "From clacs:  [[nan nan nan nan nan nan nan nan nan nan]]\n",
      "Batch:  34  Loss:  nan\n",
      "From crossentropy:  [[nan nan nan nan nan nan nan nan nan nan]] \n",
      "From clacs:  [[nan nan nan nan nan nan nan nan nan nan]]\n",
      "Batch:  36  Loss:  nan\n",
      "From crossentropy:  [[nan nan nan nan nan nan nan nan nan nan]] \n",
      "From clacs:  [[nan nan nan nan nan nan nan nan nan nan]]\n",
      "Batch:  38  Loss:  nan\n",
      "From crossentropy:  [[nan nan nan nan nan nan nan nan nan nan]] \n",
      "From clacs:  [[nan nan nan nan nan nan nan nan nan nan]]\n",
      "Batch:  40  Loss:  nan\n",
      "From crossentropy:  [[nan nan nan nan nan nan nan nan nan nan]] \n",
      "From clacs:  [[nan nan nan nan nan nan nan nan nan nan]]\n"
     ]
    },
    {
     "ename": "KeyboardInterrupt",
     "evalue": "",
     "output_type": "error",
     "traceback": [
      "\u001b[0;31m---------------------------------------------------------------------------\u001b[0m",
      "\u001b[0;31mKeyboardInterrupt\u001b[0m                         Traceback (most recent call last)",
      "\u001b[0;32m<ipython-input-5-6803358ea74a>\u001b[0m in \u001b[0;36m<module>\u001b[0;34m\u001b[0m\n\u001b[1;32m     67\u001b[0m         \u001b[0mgrads\u001b[0m \u001b[0;34m=\u001b[0m \u001b[0mdense2\u001b[0m\u001b[0;34m.\u001b[0m\u001b[0mbackward\u001b[0m\u001b[0;34m(\u001b[0m\u001b[0mgrads\u001b[0m\u001b[0;34m,\u001b[0m \u001b[0;36m0.001\u001b[0m\u001b[0;34m)\u001b[0m\u001b[0;34m\u001b[0m\u001b[0;34m\u001b[0m\u001b[0m\n\u001b[1;32m     68\u001b[0m         \u001b[0mgrads\u001b[0m \u001b[0;34m=\u001b[0m \u001b[0mrelu3\u001b[0m\u001b[0;34m.\u001b[0m\u001b[0mbackward\u001b[0m\u001b[0;34m(\u001b[0m\u001b[0mgrads\u001b[0m\u001b[0;34m,\u001b[0m \u001b[0;36m0.001\u001b[0m\u001b[0;34m)\u001b[0m\u001b[0;34m\u001b[0m\u001b[0;34m\u001b[0m\u001b[0m\n\u001b[0;32m---> 69\u001b[0;31m         \u001b[0mgrads\u001b[0m \u001b[0;34m=\u001b[0m \u001b[0mdense1\u001b[0m\u001b[0;34m.\u001b[0m\u001b[0mbackward\u001b[0m\u001b[0;34m(\u001b[0m\u001b[0mgrads\u001b[0m\u001b[0;34m,\u001b[0m \u001b[0;36m0.001\u001b[0m\u001b[0;34m)\u001b[0m\u001b[0;34m\u001b[0m\u001b[0;34m\u001b[0m\u001b[0m\n\u001b[0m\u001b[1;32m     70\u001b[0m         \u001b[0mgrads\u001b[0m \u001b[0;34m=\u001b[0m \u001b[0mrelu2\u001b[0m\u001b[0;34m.\u001b[0m\u001b[0mbackward\u001b[0m\u001b[0;34m(\u001b[0m\u001b[0mgrads\u001b[0m\u001b[0;34m,\u001b[0m \u001b[0;36m0.001\u001b[0m\u001b[0;34m)\u001b[0m\u001b[0;34m\u001b[0m\u001b[0;34m\u001b[0m\u001b[0m\n\u001b[1;32m     71\u001b[0m         \u001b[0mgrads\u001b[0m \u001b[0;34m=\u001b[0m \u001b[0mconv2\u001b[0m\u001b[0;34m.\u001b[0m\u001b[0mbackward\u001b[0m\u001b[0;34m(\u001b[0m\u001b[0mgrads\u001b[0m\u001b[0;34m,\u001b[0m \u001b[0;36m0.001\u001b[0m\u001b[0;34m)\u001b[0m\u001b[0;34m\u001b[0m\u001b[0;34m\u001b[0m\u001b[0m\n",
      "\u001b[0;31mKeyboardInterrupt\u001b[0m: "
     ]
    }
   ],
   "source": [
    "from libdl import Convolution, ReLU, DenseLayer, CrossEntropy\n",
    "epochs = 5\n",
    "lr = 0.0001\n",
    "batch_size = 2\n",
    "batch = 0\n",
    "\n",
    "data.set_tensor(train_data[batch+1:batch + batch_size+1], 28, 28, 1)\n",
    "labels.set_tensor(train_labels[batch+1:batch + batch_size+1], 1, 1, 1)\n",
    "\n",
    "#predictions = model.forward(data)\n",
    "        \n",
    "conv1 = Convolution(\"conv1\", 3, 16, 0, 1, 1, 16)\n",
    "relu1 = ReLU()\n",
    "conv2 = Convolution(\"conv2\", 3, 32, 0, 1, 16, 16)\n",
    "relu2 = ReLU()\n",
    "dense1 = DenseLayer(18432, 10000, \"dense1\", 200)\n",
    "relu3 = ReLU()\n",
    "dense2 = DenseLayer(10000, 1000, \"dense2\", 10)\n",
    "relu4 = ReLU()\n",
    "dense3 = DenseLayer(1000, 10, \"dense2\", 10)\n",
    "\n",
    "cross_entropy = CrossEntropy(10)\n",
    "\n",
    "grads = TensorWrapper(1, 1, 1, 1, False)\n",
    "\n",
    "loss = 0\n",
    "labels.set_tensor(train_labels[0:0 + batch_size], 1, 1, 1)\n",
    "\n",
    "print(labels.get_tensor()[0, 0], flush=True)\n",
    "\n",
    "\n",
    "for epoch in range(3):\n",
    "    for i in range(0, 60000, batch_size):\n",
    "        data.set_tensor(train_data[i:i + batch_size+1], 28, 28, 1)\n",
    "        labels.set_tensor(train_labels[i:i + batch_size], 1, 1, 1)\n",
    "        \n",
    "        out = conv1.forward(data)\n",
    "        out = relu1.forward(out)\n",
    "        out = conv2.forward(out)\n",
    "        out = relu2.forward(out)\n",
    "        out = dense1.forward(out)\n",
    "        out = relu3.forward(out)\n",
    "        out = dense2.forward(out)\n",
    "        out = relu4.forward(out)\n",
    "        out = dense3.forward(out)\n",
    "        \n",
    "        exp = np.exp(out.get_tensor())\n",
    "        s = np.sum(exp)\n",
    "        exp /= s\n",
    "        g = exp\n",
    "        target = labels.get_tensor()[0, 0]\n",
    "        loss -= np.log(exp[0, int(target)])\n",
    "        \n",
    "        print(\"Batch: \", i, \" Loss: \" , loss, flush=True)\n",
    "        \n",
    "        \n",
    "        from_ce = cross_entropy.get_gradient(out.get_tensor(), labels.get_tensor(), 20)\n",
    "\n",
    "        g[0, int(target)] -= 1\n",
    "        grads.set_tensor(from_ce, 10, 1, 1)\n",
    "        \n",
    "        \n",
    "        \n",
    "        grads = dense3.backward(grads, 0.0001)\n",
    "        grads = relu4.backward(grads, 0.0001)\n",
    "        grads = dense2.backward(grads, 0.0001)\n",
    "        grads = relu3.backward(grads, 0.0001)\n",
    "        grads = dense1.backward(grads, 0.0001)\n",
    "        grads = relu2.backward(grads, 0.0001)\n",
    "        grads = conv2.backward(grads, 0.0001)\n",
    "        grads = relu1.backward(grads, 0.0001)\n",
    "        grads = conv1.backward(grads, 0.0001)\n",
    "\n",
    "        if i % 20 == 0:\n",
    "            print(\"Epoch: \" , i)\n",
    "\n",
    "\n",
    "\n",
    "label = labels.get_tensor()\n",
    "\n",
    "arr = out.get_tensor() \n",
    "    \n",
    "arr = np.exp(arr)\n",
    "s = np.sum(arr)\n",
    "arr /= s\n",
    "\n",
    "print(\"Label: \" , label, \" Sure: \" , arr[0, 0] * 100, \"%\")\n",
    "    "
   ]
  },
  {
   "cell_type": "code",
   "execution_count": null,
   "metadata": {},
   "outputs": [],
   "source": [
    "print(labels.get_tensor())"
   ]
  },
  {
   "cell_type": "code",
   "execution_count": 49,
   "metadata": {},
   "outputs": [
    {
     "name": "stdout",
     "output_type": "stream",
     "text": [
      "Label:  [[5.]]  Sure:  99.96835927381632 %\n"
     ]
    }
   ],
   "source": [
    "dense1 = DenseLayer(784, 400, \"dense1\", 10)\n",
    "relu1 = ReLU()\n",
    "dense2 = DenseLayer(400, 200, \"dense2\", 10)\n",
    "relu2 = ReLU()\n",
    "dense3 = DenseLayer(200, 10, \"dense3\", 10)\n",
    "\n",
    "for i in range(1000):\n",
    "    out = dense1.forward(data)\n",
    "    out = relu1.forward(out)\n",
    "    out = dense2.forward(out)\n",
    "    out = relu2.forward(out)\n",
    "    out = dense3.forward(out)\n",
    "    \n",
    "    grads.set_tensor(cross_entropy.get_gradient(out.get_tensor(), labels.get_tensor(), 20), 10, 1, 1)\n",
    "    \n",
    "    grads = dense3.backward(grads, 0.0001)\n",
    "    grads = relu2.backward(grads, 0.0001)\n",
    "    grads = dense2.backward(grads, 0.0001)\n",
    "    grads = relu1.backward(grads, 0.0001)\n",
    "    grads = dense1.backward(grads, 0.0001)\n",
    "    \n",
    "    \n",
    "out = dense1.forward(data)\n",
    "out = relu1.forward(out)\n",
    "out = dense2.forward(out)\n",
    "out = relu2.forward(out)\n",
    "out = dense3.forward(out)\n",
    "    \n",
    "label = labels.get_tensor()\n",
    "\n",
    "arr = out.get_tensor() \n",
    "    \n",
    "arr = np.exp(arr)\n",
    "s = np.sum(arr)\n",
    "arr /= s\n",
    "\n",
    "print(\"Label: \" , label, \" Sure: \" , arr[0, 5] * 100, \"%\")\n",
    "    "
   ]
  },
  {
   "cell_type": "code",
   "execution_count": null,
   "metadata": {},
   "outputs": [],
   "source": []
  }
 ],
 "metadata": {
  "kernelspec": {
   "display_name": "Python 3",
   "language": "python",
   "name": "python3"
  },
  "language_info": {
   "codemirror_mode": {
    "name": "ipython",
    "version": 3
   },
   "file_extension": ".py",
   "mimetype": "text/x-python",
   "name": "python",
   "nbconvert_exporter": "python",
   "pygments_lexer": "ipython3",
   "version": "3.7.3"
  }
 },
 "nbformat": 4,
 "nbformat_minor": 2
}
